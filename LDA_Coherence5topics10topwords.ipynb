{
 "cells": [
  {
   "cell_type": "code",
   "execution_count": 18,
   "id": "4d0931e2-b274-4c12-b037-6b52d245f851",
   "metadata": {},
   "outputs": [
    {
     "name": "stderr",
     "output_type": "stream",
     "text": [
      "[nltk_data] Downloading package punkt to\n",
      "[nltk_data]     C:\\Users\\Pascal\\AppData\\Roaming\\nltk_data...\n",
      "[nltk_data]   Package punkt is already up-to-date!\n",
      "[nltk_data] Downloading package stopwords to\n",
      "[nltk_data]     C:\\Users\\Pascal\\AppData\\Roaming\\nltk_data...\n",
      "[nltk_data]   Package stopwords is already up-to-date!\n"
     ]
    },
    {
     "name": "stdout",
     "output_type": "stream",
     "text": [
      "Topic 1: college, colleges, oxford, one, church, street, great, day, university, also\n",
      "Topic 2: oxford, university, colleges, visit, place, around, buildings, city, walk, beautiful\n",
      "Topic 3: oxford, university, colleges, one, college, many, buildings, city, see, visit\n",
      "Topic 4: oxford, tour, university, history, see, visit, place, buildings, architecture, around\n",
      "Topic 5: university, colleges, time, oxford, buildings, school, best, get, museum, city\n",
      "Topic 1 Coherence Score: 5.053623348572217\n",
      "Topic 2 Coherence Score: 5.245340525415433\n",
      "Topic 3 Coherence Score: 5.563838902072477\n",
      "Topic 4 Coherence Score: 5.217968621342824\n",
      "Topic 5 Coherence Score: 4.172628170970423\n"
     ]
    }
   ],
   "source": [
    "import pandas as pd\n",
    "from sklearn.feature_extraction.text import CountVectorizer\n",
    "from sklearn.decomposition import LatentDirichletAllocation\n",
    "from nltk.tokenize import word_tokenize\n",
    "from nltk.corpus import stopwords\n",
    "import numpy as np\n",
    "from itertools import combinations\n",
    "import re\n",
    "import nltk\n",
    "\n",
    "# Download necessary NLTK resources\n",
    "nltk.download('punkt')\n",
    "nltk.download('stopwords')\n",
    "\n",
    "# Preprocessing Function\n",
    "def preprocess_text(text):\n",
    "    # Lowercase the text\n",
    "    text = text.lower()\n",
    "    # Remove punctuation and numbers\n",
    "    text = re.sub(r'[^\\w\\s]', '', text)\n",
    "    text = re.sub(r'\\d+', '', text)\n",
    "    # Remove stopwords\n",
    "    stop_words = set(stopwords.words('english'))\n",
    "    tokens = word_tokenize(text)\n",
    "    text = ' '.join([word for word in tokens if word not in stop_words])\n",
    "    return text\n",
    "\n",
    "# Load Dataset\n",
    "# Replace 'university_of_oxford_tripadvisor_reviews.csv' with your file path if necessary\n",
    "df = pd.read_csv(\"university_of_oxford_tripadvisor_reviews.csv\")\n",
    "\n",
    "# Preprocess Text\n",
    "df['cleaned_text'] = df['text'].apply(preprocess_text)\n",
    "\n",
    "# Create Bag of Words Representation\n",
    "vectorizer = CountVectorizer()\n",
    "bow_matrix = vectorizer.fit_transform(df['cleaned_text'])\n",
    "vocab = vectorizer.get_feature_names_out()\n",
    "\n",
    "# Fit LDA Model\n",
    "n_topics = 5  # Number of topics\n",
    "lda_model = LatentDirichletAllocation(n_components=n_topics, random_state=1500)\n",
    "lda_model.fit(bow_matrix)\n",
    "\n",
    "# Extract Topics\n",
    "def extract_topics(lda_model, feature_names, n_top_words=10):\n",
    "    topics = []\n",
    "    for topic_idx, topic in enumerate(lda_model.components_):\n",
    "        top_words = [feature_names[i] for i in topic.argsort()[:-n_top_words - 1:-1]]\n",
    "        topics.append(top_words)\n",
    "        print(f\"Topic {topic_idx + 1}: {', '.join(top_words)}\")\n",
    "    return topics\n",
    "\n",
    "topics = extract_topics(lda_model, vocab, n_top_words=10)\n",
    "\n",
    "# Coherence Score Calculation\n",
    "def compute_coherence_score(topics, bow_matrix, vocab):\n",
    "    # Compute co-occurrence matrix\n",
    "    co_occurrence_matrix = np.dot(bow_matrix.T, bow_matrix)\n",
    "    vocab_to_idx = {word: idx for idx, word in enumerate(vocab)}\n",
    "    \n",
    "    def topic_coherence(topic):\n",
    "        coherence = 0\n",
    "        n_pairs = 0\n",
    "        for word1, word2 in combinations(topic, 2):\n",
    "            idx1, idx2 = vocab_to_idx[word1], vocab_to_idx[word2]\n",
    "            co_occurrence = co_occurrence_matrix[idx1, idx2]\n",
    "            if co_occurrence > 0:\n",
    "                coherence += np.log(co_occurrence + 1)  # +1 to avoid log(0)\n",
    "                n_pairs += 1\n",
    "        return coherence / n_pairs if n_pairs > 0 else 0\n",
    "    \n",
    "    return [topic_coherence(topic) for topic in topics]\n",
    "\n",
    "# Compute and Print Coherence Scores\n",
    "coherence_scores = compute_coherence_score(topics, bow_matrix, vocab)\n",
    "for idx, score in enumerate(coherence_scores):\n",
    "    print(f\"Topic {idx + 1} Coherence Score: {score}\")\n"
   ]
  },
  {
   "cell_type": "code",
   "execution_count": null,
   "id": "fa8d90c1-b1f9-4b07-b100-a26b49680747",
   "metadata": {},
   "outputs": [],
   "source": []
  },
  {
   "cell_type": "code",
   "execution_count": null,
   "id": "ef73154a-82cf-4676-9aee-252d571768c0",
   "metadata": {},
   "outputs": [],
   "source": []
  }
 ],
 "metadata": {
  "kernelspec": {
   "display_name": "Python 3 (ipykernel)",
   "language": "python",
   "name": "python3"
  },
  "language_info": {
   "codemirror_mode": {
    "name": "ipython",
    "version": 3
   },
   "file_extension": ".py",
   "mimetype": "text/x-python",
   "name": "python",
   "nbconvert_exporter": "python",
   "pygments_lexer": "ipython3",
   "version": "3.12.3"
  }
 },
 "nbformat": 4,
 "nbformat_minor": 5
}

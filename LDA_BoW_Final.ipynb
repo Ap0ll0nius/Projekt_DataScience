{
 "cells": [
  {
   "cell_type": "code",
   "execution_count": 7,
   "id": "79223774-b8e1-41c8-948d-d772ef2163cb",
   "metadata": {},
   "outputs": [
    {
     "name": "stdout",
     "output_type": "stream",
     "text": [
      "Topic 1: oxford, tour, buildings, visit, day\n",
      "Topic 2: university, oxford, colleges, city, visit\n",
      "Topic 3: see, harry, potter, oxford, university\n",
      "Topic 4: oxford, university, colleges, around, city\n",
      "Topic 5: tour, university, oxford, history, colleges\n",
      "LDA (BoW) - Topic 1 Coherence Score: 5.410830510159483\n",
      "LDA (BoW) - Topic 2 Coherence Score: 6.031038907373289\n",
      "LDA (BoW) - Topic 3 Coherence Score: 5.215109820302698\n",
      "LDA (BoW) - Topic 4 Coherence Score: 5.953811413330107\n",
      "LDA (BoW) - Topic 5 Coherence Score: 5.903909361919989\n"
     ]
    }
   ],
   "source": [
    "import pandas as pd\n",
    "from sklearn.feature_extraction.text import CountVectorizer, TfidfVectorizer\n",
    "from sklearn.decomposition import TruncatedSVD, LatentDirichletAllocation\n",
    "from nltk.tokenize import word_tokenize\n",
    "from nltk.corpus import stopwords\n",
    "import numpy as np\n",
    "from itertools import combinations\n",
    "import re\n",
    "import nltk\n",
    "\n",
    "# Preprocessing Function\n",
    "def preprocess_text(text):\n",
    "    # Lowercase the text\n",
    "    text = text.lower()\n",
    "    # Remove punctuation and numbers\n",
    "    text = re.sub(r'[^\\w\\s]', '', text)\n",
    "    text = re.sub(r'\\d+', '', text)\n",
    "    # Remove stopwords\n",
    "    stop_words = set(stopwords.words('english'))\n",
    "    tokens = word_tokenize(text)\n",
    "    text = ' '.join([word for word in tokens if word not in stop_words])\n",
    "    return text\n",
    "\n",
    "# Load Dataset\n",
    "df = pd.read_csv(\"university_of_oxford_tripadvisor_reviews.csv\")\n",
    "df['cleaned_text'] = df['text'].apply(preprocess_text)\n",
    "\n",
    "# Bag of Words\n",
    "bow_vectorizer = CountVectorizer()\n",
    "bow_matrix = bow_vectorizer.fit_transform(df['cleaned_text'])\n",
    "\n",
    "# Function to Calculate Coherence Scores\n",
    "def compute_coherence_score(topics, matrix, vocab):\n",
    "    # Compute co-occurrence matrix\n",
    "    co_occurrence_matrix = np.dot(matrix.T, matrix)\n",
    "    vocab_to_idx = {word: idx for idx, word in enumerate(vocab)}\n",
    "    \n",
    "    def topic_coherence(topic):\n",
    "        coherence = 0\n",
    "        n_pairs = 0\n",
    "        for word1, word2 in combinations(topic, 2):\n",
    "            idx1, idx2 = vocab_to_idx[word1], vocab_to_idx[word2]\n",
    "            co_occurrence = co_occurrence_matrix[idx1, idx2]\n",
    "            if co_occurrence > 0:\n",
    "                coherence += np.log(co_occurrence + 1)  # +1 to avoid log(0)\n",
    "                n_pairs += 1\n",
    "        return coherence / n_pairs if n_pairs > 0 else 0\n",
    "    \n",
    "    return [topic_coherence(topic) for topic in topics]\n",
    "\n",
    "# Function to Extract Topics\n",
    "def extract_topics(model, vectorizer, n_top_words=5):\n",
    "    vocab = vectorizer.get_feature_names_out()\n",
    "    topics = []\n",
    "    for idx, topic in enumerate(model.components_):\n",
    "        top_words = [vocab[i] for i in topic.argsort()[:-n_top_words - 1:-1]]\n",
    "        topics.append(top_words)\n",
    "        print(f\"Topic {idx + 1}: {', '.join(top_words)}\")\n",
    "    return topics\n",
    "\n",
    "# LDA with BoW\n",
    "lda_bow_model = LatentDirichletAllocation(n_components=5, random_state=42)\n",
    "lda_bow_model.fit(bow_matrix)\n",
    "\n",
    "# Extract Topics\n",
    "lda_bow_topics = extract_topics(lda_bow_model, bow_vectorizer)\n",
    "\n",
    "# Compute Coherence\n",
    "lda_bow_coherence = compute_coherence_score(lda_bow_topics, bow_matrix.toarray(), bow_vectorizer.get_feature_names_out())\n",
    "for idx, score in enumerate(lda_bow_coherence):\n",
    "    print(f\"LDA (BoW) - Topic {idx + 1} Coherence Score: {score}\")\n"
   ]
  },
  {
   "cell_type": "code",
   "execution_count": null,
   "id": "8fe14d3f-271d-4ebc-ae13-1a86793e65d2",
   "metadata": {},
   "outputs": [],
   "source": []
  },
  {
   "cell_type": "code",
   "execution_count": null,
   "id": "1342f99e-4884-4e93-b43e-c301d3cfa84b",
   "metadata": {},
   "outputs": [],
   "source": []
  }
 ],
 "metadata": {
  "kernelspec": {
   "display_name": "Python 3 (ipykernel)",
   "language": "python",
   "name": "python3"
  },
  "language_info": {
   "codemirror_mode": {
    "name": "ipython",
    "version": 3
   },
   "file_extension": ".py",
   "mimetype": "text/x-python",
   "name": "python",
   "nbconvert_exporter": "python",
   "pygments_lexer": "ipython3",
   "version": "3.12.3"
  }
 },
 "nbformat": 4,
 "nbformat_minor": 5
}
